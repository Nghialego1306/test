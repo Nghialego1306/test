{
  "nbformat": 4,
  "nbformat_minor": 0,
  "metadata": {
    "colab": {
      "name": "Money.ipynb",
      "provenance": [],
      "collapsed_sections": [],
      "include_colab_link": true
    },
    "kernelspec": {
      "name": "python3",
      "display_name": "Python 3"
    },
    "language_info": {
      "name": "python"
    }
  },
  "cells": [
    {
      "cell_type": "markdown",
      "metadata": {
        "id": "view-in-github",
        "colab_type": "text"
      },
      "source": [
        "<a href=\"https://colab.research.google.com/github/Nghialego1306/test/blob/main/Money.ipynb\" target=\"_parent\"><img src=\"https://colab.research.google.com/assets/colab-badge.svg\" alt=\"Open In Colab\"/></a>"
      ]
    },
    {
      "cell_type": "code",
      "execution_count": null,
      "metadata": {
        "id": "mBKcPVI14VFU"
      },
      "outputs": [],
      "source": [
        "from tensorflow.keras.optimizers import SGD\n",
        "from tensorflow.keras.utils import to_categorical\n",
        "from keras.preprocessing.image import load_img,img_to_array\n",
        "import matplotlib.pyplot as plt\n",
        "import numpy as np\n",
        "import os\n",
        "from keras.layers.convolutional import Conv2D,MaxPooling2D\n",
        "from keras.models import Sequential,load_model\n",
        "from keras.layers import Dense, Dropout, Flatten"
      ]
    },
    {
      "cell_type": "code",
      "source": [
        "dir_path = '/content/drive/MyDrive/Colab Notebooks/Data_tienVN'\n",
        "path_img = []\n",
        "labels = ['1000','2000','5000','10000','20000','50000','100000']\n",
        "x_train = []\n",
        "y_train = []"
      ],
      "metadata": {
        "id": "1Hhh1t5bX_hO"
      },
      "execution_count": null,
      "outputs": []
    },
    {
      "cell_type": "code",
      "source": [
        "from google.colab import drive\n",
        "drive.mount('/content/drive')"
      ],
      "metadata": {
        "id": "fjEN0rDLh5JR",
        "colab": {
          "base_uri": "https://localhost:8080/"
        },
        "outputId": "4c82761c-a657-440a-8e56-20fea907d524"
      },
      "execution_count": null,
      "outputs": [
        {
          "output_type": "stream",
          "name": "stdout",
          "text": [
            "Drive already mounted at /content/drive; to attempt to forcibly remount, call drive.mount(\"/content/drive\", force_remount=True).\n"
          ]
        }
      ]
    },
    {
      "cell_type": "code",
      "source": [
        "for i in labels:\n",
        "  path_class = os.path.join(dir_path,i)\n",
        "  index_label = labels.index(i)\n",
        "  for j in os.listdir(path_class):\n",
        "    path_img = os.path.join(path_class,j)\n",
        "    img = load_img(path_img,target_size=(32,64))\n",
        "    img = img_to_array(img)\n",
        "    img = img.astype('float32')\n",
        "    img = img/255\n",
        "    x_train.append(img)\n",
        "    y_train.append(index_label)"
      ],
      "metadata": {
        "id": "_RQ2heK7xn8I"
      },
      "execution_count": null,
      "outputs": []
    },
    {
      "cell_type": "code",
      "source": [
        "x_train = np.array(x_train)\n",
        "y_train = np.array(y_train)\n",
        "y_train = to_categorical(y_train)"
      ],
      "metadata": {
        "id": "aOCYb2PDbWg6"
      },
      "execution_count": null,
      "outputs": []
    },
    {
      "cell_type": "code",
      "source": [
        "# Initialize the CNN\n",
        "model = Sequential()\n",
        "# Convolution\n",
        "model.add(Conv2D(32,(3,3),activation='relu',kernel_initializer='he_uniform',padding='same',input_shape=(32,64,3)))\n",
        "# A second convolution layer\n",
        "model.add(Conv2D(32,(3,3),activation='relu',kernel_initializer='he_uniform',padding='same'))\n",
        "# Pooling\n",
        "model.add(MaxPooling2D((2,2)))\n",
        "# Flattening\n",
        "model.add(Flatten())\n",
        "# Full connection\n",
        "model.add(Flatten())\n",
        "model.add(Dense(1024,activation = 'relu',kernel_initializer='he_uniform'))\n",
        "model.add(Dense(256,activation = 'relu',kernel_initializer='he_uniform'))\n",
        "model.add(Dense(7,activation = 'softmax'))\n"
      ],
      "metadata": {
        "id": "QJdfAU0-t4jj"
      },
      "execution_count": null,
      "outputs": []
    },
    {
      "cell_type": "code",
      "source": [
        "opt = SGD(learning_rate=0.01,momentum=0.9)\n",
        "model.compile(opt,loss='categorical_crossentropy',metrics=['accuracy'])\n",
        "history = model.fit(x_train,y_train,epochs=15,batch_size=128,verbose=1)"
      ],
      "metadata": {
        "colab": {
          "base_uri": "https://localhost:8080/"
        },
        "id": "bwlXzQN6vbHv",
        "outputId": "90d8e404-ff0a-44d1-c360-794ee24b4deb"
      },
      "execution_count": null,
      "outputs": [
        {
          "output_type": "stream",
          "name": "stdout",
          "text": [
            "Epoch 1/15\n",
            "1/1 [==============================] - 2s 2s/step - loss: 2.3226 - accuracy: 0.1395\n",
            "Epoch 2/15\n",
            "1/1 [==============================] - 1s 779ms/step - loss: 3.6772 - accuracy: 0.1628\n",
            "Epoch 3/15\n",
            "1/1 [==============================] - 1s 728ms/step - loss: 4.3090 - accuracy: 0.1628\n",
            "Epoch 4/15\n",
            "1/1 [==============================] - 1s 733ms/step - loss: 2.1479 - accuracy: 0.1628\n",
            "Epoch 5/15\n",
            "1/1 [==============================] - 1s 604ms/step - loss: 1.9095 - accuracy: 0.2558\n",
            "Epoch 6/15\n",
            "1/1 [==============================] - 0s 430ms/step - loss: 1.8580 - accuracy: 0.1395\n",
            "Epoch 7/15\n",
            "1/1 [==============================] - 0s 382ms/step - loss: 1.8122 - accuracy: 0.2326\n",
            "Epoch 8/15\n",
            "1/1 [==============================] - 0s 408ms/step - loss: 1.7466 - accuracy: 0.3023\n",
            "Epoch 9/15\n",
            "1/1 [==============================] - 0s 378ms/step - loss: 1.6625 - accuracy: 0.5116\n",
            "Epoch 10/15\n",
            "1/1 [==============================] - 0s 369ms/step - loss: 1.5721 - accuracy: 0.4651\n",
            "Epoch 11/15\n",
            "1/1 [==============================] - 0s 391ms/step - loss: 1.4496 - accuracy: 0.4651\n",
            "Epoch 12/15\n",
            "1/1 [==============================] - 0s 381ms/step - loss: 1.3221 - accuracy: 0.6279\n",
            "Epoch 13/15\n",
            "1/1 [==============================] - 0s 391ms/step - loss: 1.1900 - accuracy: 0.7209\n",
            "Epoch 14/15\n",
            "1/1 [==============================] - 0s 394ms/step - loss: 1.0380 - accuracy: 0.8837\n",
            "Epoch 15/15\n",
            "1/1 [==============================] - 0s 386ms/step - loss: 0.8975 - accuracy: 0.9070\n"
          ]
        }
      ]
    },
    {
      "cell_type": "code",
      "source": [
        "model.save('money.h5')\n",
        "model_pre=load_model('money.h5')"
      ],
      "metadata": {
        "id": "p6JOEeeK4PWY"
      },
      "execution_count": null,
      "outputs": []
    },
    {
      "cell_type": "code",
      "source": [
        "img=load_img('/content/drive/MyDrive/Colab Notebooks/Data_tienVN/100000/100000_3.jpg',target_size=(32,64))\n",
        "plt.imshow(img)\n",
        "img=img_to_array(img)\n",
        "img=img.reshape(1,32,64,3)\n",
        "img=img.astype('float32')\n",
        "img=img/255\n",
        "img.shape"
      ],
      "metadata": {
        "colab": {
          "base_uri": "https://localhost:8080/",
          "height": 234
        },
        "id": "vvNQCWRiv1AI",
        "outputId": "1850263d-6180-4912-d241-3b19b5e01aff"
      },
      "execution_count": null,
      "outputs": [
        {
          "output_type": "execute_result",
          "data": {
            "text/plain": [
              "(1, 32, 64, 3)"
            ]
          },
          "metadata": {},
          "execution_count": 26
        },
        {
          "output_type": "display_data",
          "data": {
            "text/plain": [
              "<Figure size 432x288 with 1 Axes>"
            ],
            "image/png": "[encoded data removed]"
          },
          "metadata": {
            "needs_background": "light"
          }
        }
      ]
    },
    {
      "cell_type": "code",
      "source": [
        "np.argmax(model_pre.predict(img),axis=1)"
      ],
      "metadata": {
        "colab": {
          "base_uri": "https://localhost:8080/"
        },
        "id": "7h_aRztmzUFw",
        "outputId": "a8ab5077-4145-46a1-cd1a-7fdb8b659dae"
      },
      "execution_count": null,
      "outputs": [
        {
          "output_type": "execute_result",
          "data": {
            "text/plain": [
              "array([3])"
            ]
          },
          "metadata": {},
          "execution_count": 27
        }
      ]
    },
    {
      "cell_type": "code",
      "source": [
        ""
      ],
      "metadata": {
        "id": "j6zB82WKzb2L"
      },
      "execution_count": null,
      "outputs": []
    }
  ]
}