{
  "nbformat": 4,
  "nbformat_minor": 0,
  "metadata": {
    "colab": {
      "name": "Traicay.ipynb",
      "provenance": [],
      "mount_file_id": "1a6ABgTuG1DCznFWBiqfZ81SKZ_HRDiAV",
      "authorship_tag": "ABX9TyPD28HQOV7gRinSygp+ZlHd",
      "include_colab_link": true
    },
    "kernelspec": {
      "name": "python3",
      "display_name": "Python 3"
    },
    "language_info": {
      "name": "python"
    }
  },
  "cells": [
    {
      "cell_type": "markdown",
      "metadata": {
        "id": "view-in-github",
        "colab_type": "text"
      },
      "source": [
        "<a href=\"https://colab.research.google.com/github/Nghialego1306/test/blob/main/Traicay.ipynb\" target=\"_parent\"><img src=\"https://colab.research.google.com/assets/colab-badge.svg\" alt=\"Open In Colab\"/></a>"
      ]
    },
    {
      "cell_type": "code",
      "execution_count": 1,
      "metadata": {
        "id": "NRmy62KBX7Sd"
      },
      "outputs": [],
      "source": [
        "from tensorflow.keras.optimizers import SGD\n",
        "from tensorflow.keras.utils import to_categorical\n",
        "from keras.preprocessing.image import load_img,img_to_array\n",
        "import matplotlib.pyplot as plt\n",
        "import numpy as np\n",
        "import os\n",
        "from keras.layers.convolutional import Conv2D,MaxPooling2D\n",
        "from keras.models import Sequential,load_model\n",
        "from keras.layers import Dense, Dropout, Flatten\n"
      ]
    },
    {
      "cell_type": "code",
      "source": [
        "dir_path = '/content/drive/MyDrive/Colab Notebooks/Data_traicay'\n",
        "path_img = []\n",
        "labels = ['chuoi','duahau','le','man','sapoche','saurieng','tao','thanhlong','thom','xoai']\n",
        "x_train = []\n",
        "y_train = []"
      ],
      "metadata": {
        "id": "zvGEBk8hX_ml"
      },
      "execution_count": 2,
      "outputs": []
    },
    {
      "cell_type": "code",
      "source": [
        "from google.colab import drive\n",
        "drive.mount('/content/drive')"
      ],
      "metadata": {
        "colab": {
          "base_uri": "https://localhost:8080/"
        },
        "id": "2UcUG-sHYjup",
        "outputId": "5989460b-ca11-446d-8071-13416d6d603b"
      },
      "execution_count": 3,
      "outputs": [
        {
          "output_type": "stream",
          "name": "stdout",
          "text": [
            "Drive already mounted at /content/drive; to attempt to forcibly remount, call drive.mount(\"/content/drive\", force_remount=True).\n"
          ]
        }
      ]
    },
    {
      "cell_type": "code",
      "source": [
        "for i in labels:\n",
        "  path_class = os.path.join(dir_path,i)\n",
        "  index_label = labels.index(i)\n",
        "  for j in os.listdir(path_class):\n",
        "    path_img = os.path.join(path_class,j)\n",
        "    img = load_img(path_img,target_size=(32,64))\n",
        "    img = img_to_array(img)\n",
        "    img = img.astype('float32')\n",
        "    img = img/255\n",
        "    x_train.append(img)\n",
        "    y_train.append(index_label)"
      ],
      "metadata": {
        "id": "JvAJHkiuYl_3"
      },
      "execution_count": 4,
      "outputs": []
    },
    {
      "cell_type": "code",
      "source": [
        "x_train = np.array(x_train)\n",
        "y_train = np.array(y_train)\n",
        "y_train = to_categorical(y_train)\n"
      ],
      "metadata": {
        "id": "uRW6E5n7YqCw"
      },
      "execution_count": 5,
      "outputs": []
    },
    {
      "cell_type": "code",
      "source": [
        "# Initialize the CNN\n",
        "model = Sequential()\n",
        "# Convolution\n",
        "model.add(Conv2D(32,(3,3),activation='relu',kernel_initializer='he_uniform',padding='same',input_shape=(32,64,3)))\n",
        "# A second convolution layer\n",
        "model.add(Conv2D(32,(3,3),activation='relu',kernel_initializer='he_uniform',padding='same'))\n",
        "# Pooling\n",
        "model.add(MaxPooling2D((2,2)))\n",
        "# Flattening\n",
        "model.add(Flatten())\n",
        "# Full connection\n",
        "model.add(Flatten())\n",
        "model.add(Dense(1024,activation = 'relu',kernel_initializer='he_uniform'))\n",
        "model.add(Dense(256,activation = 'relu',kernel_initializer='he_uniform'))\n",
        "model.add(Dense(10,activation = 'softmax'))"
      ],
      "metadata": {
        "id": "mGt8NQUiYw37"
      },
      "execution_count": 6,
      "outputs": []
    },
    {
      "cell_type": "code",
      "source": [
        "opt = SGD(learning_rate=0.01,momentum=0.9)\n",
        "model.compile(opt,loss='categorical_crossentropy',metrics=['accuracy'])\n",
        "history = model.fit(x_train,y_train,epochs=15,batch_size=128,verbose=1)"
      ],
      "metadata": {
        "colab": {
          "base_uri": "https://localhost:8080/"
        },
        "id": "UYiGn7w4Y2EO",
        "outputId": "af697488-0c3b-4267-f7d8-620ecc0183e4"
      },
      "execution_count": 7,
      "outputs": [
        {
          "output_type": "stream",
          "name": "stdout",
          "text": [
            "Epoch 1/15\n",
            "1/1 [==============================] - 1s 1s/step - loss: 2.6980 - accuracy: 0.0577\n",
            "Epoch 2/15\n",
            "1/1 [==============================] - 0s 418ms/step - loss: 5.6446 - accuracy: 0.0962\n",
            "Epoch 3/15\n",
            "1/1 [==============================] - 0s 418ms/step - loss: 5.9695 - accuracy: 0.0962\n",
            "Epoch 4/15\n",
            "1/1 [==============================] - 0s 398ms/step - loss: 2.5796 - accuracy: 0.1154\n",
            "Epoch 5/15\n",
            "1/1 [==============================] - 0s 420ms/step - loss: 2.3746 - accuracy: 0.1154\n",
            "Epoch 6/15\n",
            "1/1 [==============================] - 0s 397ms/step - loss: 2.3119 - accuracy: 0.1154\n",
            "Epoch 7/15\n",
            "1/1 [==============================] - 0s 403ms/step - loss: 2.2925 - accuracy: 0.1538\n",
            "Epoch 8/15\n",
            "1/1 [==============================] - 0s 389ms/step - loss: 2.2751 - accuracy: 0.1346\n",
            "Epoch 9/15\n",
            "1/1 [==============================] - 0s 387ms/step - loss: 2.2554 - accuracy: 0.2308\n",
            "Epoch 10/15\n",
            "1/1 [==============================] - 0s 398ms/step - loss: 2.2264 - accuracy: 0.3462\n",
            "Epoch 11/15\n",
            "1/1 [==============================] - 0s 396ms/step - loss: 2.1902 - accuracy: 0.5192\n",
            "Epoch 12/15\n",
            "1/1 [==============================] - 0s 387ms/step - loss: 2.1514 - accuracy: 0.5769\n",
            "Epoch 13/15\n",
            "1/1 [==============================] - 0s 406ms/step - loss: 2.1054 - accuracy: 0.6538\n",
            "Epoch 14/15\n",
            "1/1 [==============================] - 0s 389ms/step - loss: 2.0510 - accuracy: 0.6923\n",
            "Epoch 15/15\n",
            "1/1 [==============================] - 0s 396ms/step - loss: 1.9810 - accuracy: 0.7115\n"
          ]
        }
      ]
    },
    {
      "cell_type": "code",
      "source": [
        "model.save('fruit.h5')\n",
        "model_pre=load_model('fruit.h5')"
      ],
      "metadata": {
        "id": "tsXc7hLwY7Jw"
      },
      "execution_count": 8,
      "outputs": []
    },
    {
      "cell_type": "code",
      "source": [
        "img=load_img('/content/drive/MyDrive/Colab Notebooks/Data_traicay/chuoi/20160823_chuoi_1.jpg',target_size=(32,64))\n",
        "plt.imshow(img)\n",
        "img=img_to_array(img)\n",
        "img=img.reshape(1,32,64,3)\n",
        "img=img.astype('float32')\n",
        "img=img/255\n",
        "img.shape"
      ],
      "metadata": {
        "colab": {
          "base_uri": "https://localhost:8080/",
          "height": 234
        },
        "id": "FV6dr6_bZCnW",
        "outputId": "652a304b-70f1-4190-e6a8-53def65a5884"
      },
      "execution_count": 10,
      "outputs": [
        {
          "output_type": "execute_result",
          "data": {
            "text/plain": [
              "(1, 32, 64, 3)"
            ]
          },
          "metadata": {},
          "execution_count": 10
        },
        {
          "output_type": "display_data",
          "data": {
            "text/plain": [
              "<Figure size 432x288 with 1 Axes>"
            ],
            "image/png": "[encoded data removed]"
          },
          "metadata": {
            "needs_background": "light"
          }
        }
      ]
    },
    {
      "cell_type": "code",
      "source": [
        "np.argmax(model_pre.predict(img),axis=1)"
      ],
      "metadata": {
        "colab": {
          "base_uri": "https://localhost:8080/"
        },
        "id": "2U6WBOecZL2D",
        "outputId": "5d24fc5f-e8d6-454e-dd5c-13675eeab6a2"
      },
      "execution_count": 11,
      "outputs": [
        {
          "output_type": "execute_result",
          "data": {
            "text/plain": [
              "array([0])"
            ]
          },
          "metadata": {},
          "execution_count": 11
        }
      ]
    }
  ]
}