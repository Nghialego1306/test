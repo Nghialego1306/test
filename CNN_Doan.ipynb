{
  "nbformat": 4,
  "nbformat_minor": 0,
  "metadata": {
    "colab": {
      "name": "CNN_Doan.ipynb",
      "provenance": [],
      "collapsed_sections": [],
      "include_colab_link": true
    },
    "kernelspec": {
      "name": "python3",
      "display_name": "Python 3"
    },
    "language_info": {
      "name": "python"
    }
  },
  "cells": [
    {
      "cell_type": "markdown",
      "metadata": {
        "id": "view-in-github",
        "colab_type": "text"
      },
      "source": [
        "<a href=\"https://colab.research.google.com/github/Nghialego1306/test/blob/main/CNN_Doan.ipynb\" target=\"_parent\"><img src=\"https://colab.research.google.com/assets/colab-badge.svg\" alt=\"Open In Colab\"/></a>"
      ]
    },
    {
      "cell_type": "code",
      "execution_count": null,
      "metadata": {
        "id": "f0499HHETTqi"
      },
      "outputs": [],
      "source": [
        "from tensorflow.keras.optimizers import SGD\n",
        "from tensorflow.keras.utils import to_categorical\n",
        "from keras.preprocessing.image import load_img,img_to_array\n",
        "import matplotlib.pyplot as plt\n",
        "import numpy as np\n",
        "import os\n",
        "from keras.layers.convolutional import Conv2D,MaxPooling2D\n",
        "from keras.models import Sequential,load_model\n",
        "from keras.layers import Dense, Dropout, Flatten"
      ]
    },
    {
      "cell_type": "code",
      "source": [
        "from google.colab import drive\n",
        "drive.mount('/content/drive')"
      ],
      "metadata": {
        "colab": {
          "base_uri": "https://localhost:8080/"
        },
        "id": "sHIrhddIXEPu",
        "outputId": "2428ea50-b255-496d-998b-21ac886d2ad6"
      },
      "execution_count": null,
      "outputs": [
        {
          "output_type": "stream",
          "name": "stdout",
          "text": [
            "Mounted at /content/drive\n"
          ]
        }
      ]
    },
    {
      "cell_type": "code",
      "source": [
        "dir_path = '/content/drive/MyDrive/Colab_Notebooks/Data_Doan'\n",
        "path_img = []\n",
        "labels = ['banhbeo','banhbotloc','banhcom','banhmi','banhnam','banhtroinuoc','banhxeo','bunbo','comtam','pho']\n",
        "x_train = []\n",
        "y_train = []"
      ],
      "metadata": {
        "id": "8e7Rx3zPXI_l"
      },
      "execution_count": null,
      "outputs": []
    },
    {
      "cell_type": "code",
      "source": [
        "for i in labels:\n",
        "  path_class = os.path.join(dir_path,i)\n",
        "  index_label = labels.index(i)\n",
        "  for j in os.listdir(path_class):\n",
        "    path_img = os.path.join(path_class,j)\n",
        "    img = load_img(path_img,target_size=(32,64))\n",
        "    img = img_to_array(img)\n",
        "    img = img.astype('float32')\n",
        "    img = img/255\n",
        "    x_train.append(img)\n",
        "    y_train.append(index_label)"
      ],
      "metadata": {
        "id": "f-shFRn5XpSy"
      },
      "execution_count": null,
      "outputs": []
    },
    {
      "cell_type": "code",
      "source": [
        "x_train = np.array(x_train)\n",
        "y_train = np.array(y_train)\n",
        "y_train = to_categorical(y_train)"
      ],
      "metadata": {
        "id": "GOpfEl64Xr_R"
      },
      "execution_count": null,
      "outputs": []
    },
    {
      "cell_type": "code",
      "source": [
        "# Initialize the CNN\n",
        "model = Sequential()\n",
        "# Convolution\n",
        "model.add(Conv2D(32,(3,3),activation='relu',kernel_initializer='he_uniform',padding='same',input_shape=(32,64,3)))\n",
        "# A second convolution layer\n",
        "model.add(Conv2D(32,(3,3),activation='relu',kernel_initializer='he_uniform',padding='same'))\n",
        "# Pooling\n",
        "model.add(MaxPooling2D((2,2)))\n",
        "# Flattening\n",
        "model.add(Flatten())\n",
        "# Full connection\n",
        "model.add(Flatten())\n",
        "model.add(Dense(1024,activation = 'relu',kernel_initializer='he_uniform'))\n",
        "model.add(Dense(256,activation = 'relu',kernel_initializer='he_uniform'))\n",
        "model.add(Dense(10,activation = 'softmax'))\n"
      ],
      "metadata": {
        "id": "_i6rF1g-Xz5E"
      },
      "execution_count": null,
      "outputs": []
    },
    {
      "cell_type": "code",
      "source": [
        "opt = SGD(learning_rate=0.01,momentum=0.9)\n",
        "model.compile(opt,loss='categorical_crossentropy',metrics=['accuracy'])\n",
        "history = model.fit(x_train,y_train,epochs=15,batch_size=128,verbose=1)"
      ],
      "metadata": {
        "colab": {
          "base_uri": "https://localhost:8080/"
        },
        "id": "T5rDx3TRX1vM",
        "outputId": "d50c0b68-2be1-42ea-8d78-8e2b344cafa6"
      },
      "execution_count": null,
      "outputs": [
        {
          "output_type": "stream",
          "name": "stdout",
          "text": [
            "Epoch 1/15\n",
            "1/1 [==============================] - 2s 2s/step - loss: 2.6246 - accuracy: 0.0877\n",
            "Epoch 2/15\n",
            "1/1 [==============================] - 1s 541ms/step - loss: 2.9481 - accuracy: 0.1228\n",
            "Epoch 3/15\n",
            "1/1 [==============================] - 0s 485ms/step - loss: 2.9794 - accuracy: 0.1930\n",
            "Epoch 4/15\n",
            "1/1 [==============================] - 1s 539ms/step - loss: 2.8153 - accuracy: 0.0877\n",
            "Epoch 5/15\n",
            "1/1 [==============================] - 1s 522ms/step - loss: 2.1201 - accuracy: 0.3333\n",
            "Epoch 6/15\n",
            "1/1 [==============================] - 1s 514ms/step - loss: 2.0700 - accuracy: 0.2982\n",
            "Epoch 7/15\n",
            "1/1 [==============================] - 1s 637ms/step - loss: 2.0598 - accuracy: 0.3860\n",
            "Epoch 8/15\n",
            "1/1 [==============================] - 1s 544ms/step - loss: 2.0219 - accuracy: 0.4035\n",
            "Epoch 9/15\n",
            "1/1 [==============================] - 1s 662ms/step - loss: 1.9457 - accuracy: 0.4737\n",
            "Epoch 10/15\n",
            "1/1 [==============================] - 1s 696ms/step - loss: 1.8330 - accuracy: 0.5088\n",
            "Epoch 11/15\n",
            "1/1 [==============================] - 1s 502ms/step - loss: 1.6998 - accuracy: 0.5263\n",
            "Epoch 12/15\n",
            "1/1 [==============================] - 0s 498ms/step - loss: 1.5408 - accuracy: 0.5789\n",
            "Epoch 13/15\n",
            "1/1 [==============================] - 1s 502ms/step - loss: 1.3501 - accuracy: 0.7368\n",
            "Epoch 14/15\n",
            "1/1 [==============================] - 1s 522ms/step - loss: 1.1455 - accuracy: 0.8070\n",
            "Epoch 15/15\n",
            "1/1 [==============================] - 0s 495ms/step - loss: 0.9129 - accuracy: 0.8772\n"
          ]
        }
      ]
    },
    {
      "cell_type": "code",
      "source": [
        "model.save('food.h5')\n",
        "model_pre=load_model('food.h5')"
      ],
      "metadata": {
        "id": "gZDDQYs2X3xb"
      },
      "execution_count": null,
      "outputs": []
    },
    {
      "cell_type": "code",
      "source": [
        "img=load_img('/content/drive/MyDrive/Colab_Notebooks/Data_Doan/banhxeo/banhxeo_5.jpg',target_size=(32,64))\n",
        "plt.imshow(img)\n",
        "img=img_to_array(img)\n",
        "img=img.reshape(1,32,64,3)\n",
        "img=img.astype('float32')\n",
        "img=img/255\n",
        "img.shape"
      ],
      "metadata": {
        "colab": {
          "base_uri": "https://localhost:8080/",
          "height": 234
        },
        "id": "ABrdWTiuYDLb",
        "outputId": "74bca3fe-edec-4f76-c7c9-204c139f73de"
      },
      "execution_count": null,
      "outputs": [
        {
          "output_type": "execute_result",
          "data": {
            "text/plain": [
              "(1, 32, 64, 3)"
            ]
          },
          "metadata": {},
          "execution_count": 9
        },
        {
          "output_type": "display_data",
          "data": {
            "text/plain": [
              "<Figure size 432x288 with 1 Axes>"
            ],
            "image/png": "[encoded data removed]"
          },
          "metadata": {
            "needs_background": "light"
          }
        }
      ]
    },
    {
      "cell_type": "code",
      "source": [
        "np.argmax(model_pre.predict(img),axis=1)"
      ],
      "metadata": {
        "colab": {
          "base_uri": "https://localhost:8080/"
        },
        "id": "KYj-0zYZYNrE",
        "outputId": "5ac0c8ce-0e8c-4af3-9cd1-a99a0e9a5f26"
      },
      "execution_count": null,
      "outputs": [
        {
          "output_type": "execute_result",
          "data": {
            "text/plain": [
              "array([6])"
            ]
          },
          "metadata": {},
          "execution_count": 10
        }
      ]
    },
    {
      "cell_type": "code",
      "source": [
        ""
      ],
      "metadata": {
        "id": "j9q5gw2mYPx7"
      },
      "execution_count": null,
      "outputs": []
    }
  ]
}